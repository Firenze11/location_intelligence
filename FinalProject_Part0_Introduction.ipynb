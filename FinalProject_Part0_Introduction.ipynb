{
 "cells": [
  {
   "cell_type": "markdown",
   "metadata": {},
   "source": [
    "# Location Intelligence"
   ]
  },
  {
   "cell_type": "markdown",
   "metadata": {},
   "source": [
    "## Overview and Motivation"
   ]
  },
  {
   "cell_type": "markdown",
   "metadata": {},
   "source": [
    "Understanding the mind of the customers is essential for a successful business. In fact, lots of IT companies have launched **Location recommendation services** based on a person's past behavioral patterns to predict where he/she could be next and what he/she may like. For example, Yelp Nearby and Google Now can both provide personalized recommendations.\n",
    "\n",
   
    "\n",
    "#### Similarly, understanding the travel patterns is key to design personalized travel recommendation and to improve local business to attact and serve tourists. \n",
    "\n",
    "In particular, we are interested in how travel patterns differ in subpopulations of tourists, and thus predict a tourist's next location.\n",
    "\n",
    "Andorra has becoming a popular tourist destination in Europe. It is a small country bordered by Spain and France. And till now, there are 54,619 reviews in Tripadvisor relevant to Andorra. We would like to explore our ideas with such manageable dataset. \n",
    "\n",
    "<img  src=\"https://upload.wikimedia.org/wikipedia/commons/8/86/Andorra_map_2.png\" width=\"400\"> "
   ]
  },
  {
   "cell_type": "markdown",
   "metadata": {},
   "source": [
    "## Related Work"
   ]
  },
  {
   "cell_type": "markdown",
   "metadata": {},
   "source": [
    "There are quite some work on tracking and prediciting location based on information collected through smartphone. For example, [Nokia's Mobile Data Challenge](http://www.idiap.ch/~gatica/publications/LaurilaGaticaEtal-mdc12.pdf). In [this paper by Do & Gatica-Perez](http://www.idiap.ch/~gatica/publications/DoGatica-pmc13.pdf) used the smartphone data (where, when and what apps people used in their smartphone)  behavioral patterns and study how generic behavior models can improve the predictive performance of personalized models. However, the behavioral pattern during vacation might differ a lot from daily life. For example, instead of going to the same places over and over again, tourists might be a \"exploration\" mode to visit different places. Thus our project might provide new insights in understanding behavioral patterns."
   ]
  },
  {
   "cell_type": "markdown",
   "metadata": {},
   "source": [
    "## Initial Questions"
   ]
  },
  {
   "cell_type": "markdown",
   "metadata": {},
   "source": [
    "- how travel patterns differ in subpopulations of tourists\n",
    "- what recommendations (restaurants, hotels, etc) can we provide"
   ]
  },
  {
   "cell_type": "markdown",
   "metadata": {},
   "source": [
    ***"<a href=\"https://commons.wikimedia.org/wiki/File:Andorra_map_2.png#/media/File:Andorra_map_2.png\"> Andorra map 2</a>\n",
    "by <a href=\"//en.wikivoyage.org/wiki/User:Peterfitzgerald\" class=\"extiw\" title=\"voy:User:Peterfitzgerald\">Peterfitzgerald</a> (Peter Fitzgerald) - <span class=\"int-own-work\" lang=\"en\">Own work</span> based on <a href=\"//commons.wikimedia.org/wiki/File:Andorra_topographic_map-en.svg\" title=\"File:Andorra topographic map-en.svg\">Andorra topographic map-en.svg</a> by <a href=\"//commons.wikimedia.org/wiki/User:Sting\" title=\"User:Sting\">Sting</a> (English translation by <a href=\"//commons.wikimedia.org/wiki/User:Goldsztajn\" title=\"User:Goldsztajn\">Goldsztajn</a>. Licensed under <a href=\"http://www.gnu.org/copyleft/fdl.html\" title=\"GNU Free Documentation License\">GFDL</a> via <a href=\"https://commons.wikimedia.org/wiki/\">Wikimedia Commons</a>."
   ]
  }
 ],
 "metadata": {
  "kernelspec": {
   "display_name": "Python 2",
   "language": "python",
   "name": "python2"
  },
  "language_info": {
   "codemirror_mode": {
    "name": "ipython",
    "version": 2
   },
   "file_extension": ".py",
   "mimetype": "text/x-python",
   "name": "python",
   "nbconvert_exporter": "python",
   "pygments_lexer": "ipython2",
   "version": "2.7.10"
  }
 },
 "nbformat": 4,
 "nbformat_minor": 0
}
